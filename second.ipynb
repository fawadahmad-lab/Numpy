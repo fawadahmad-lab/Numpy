{
 "cells": [
  {
   "cell_type": "markdown",
   "metadata": {},
   "source": [
    "## Numpy basics "
   ]
  },
  {
   "cell_type": "code",
   "execution_count": 2,
   "metadata": {},
   "outputs": [
    {
     "name": "stdout",
     "output_type": "stream",
     "text": [
      "1D Array [1 2 3 4]\n",
      "2D Array :[[1 2 3 4]\n",
      " [5 6 7 8]]\n"
     ]
    }
   ],
   "source": [
    "import numpy as np\n",
    "array_1d=np.array([1,2,3,4])\n",
    "print(f\"1D Array {array_1d}\")\n",
    "\n",
    "array_2d=np.array([[1,2,3,4],[5,6,7,8]])\n",
    "print(f\"2D Array :{array_2d}\")"
   ]
  },
  {
   "cell_type": "markdown",
   "metadata": {},
   "source": [
    "#### List vs Numpy Array"
   ]
  },
  {
   "cell_type": "code",
   "execution_count": null,
   "metadata": {},
   "outputs": [
    {
     "name": "stdout",
     "output_type": "stream",
     "text": [
      "Python list Multiplication [1, 2, 3, 4, 1, 2, 3, 4]\n",
      "Numpy Array Multiplication [2 4 6 8]\n"
     ]
    }
   ],
   "source": [
    "python_list=[1,2,3,4]\n",
    "print(f\"Python list Multiplication {python_list * 2}\")\n",
    "\n",
    "np_array = np.array([1, 2, 3, 4]) # Elemeent vise multiplication \n",
    "print(f\"Numpy Array Multiplication {np_array * 2}\")"
   ]
  },
  {
   "cell_type": "markdown",
   "metadata": {},
   "source": [
    "#### Creating Array from Scratch "
   ]
  },
  {
   "cell_type": "code",
   "execution_count": null,
   "metadata": {},
   "outputs": [
    {
     "name": "stdout",
     "output_type": "stream",
     "text": [
      "Zeros Array \n",
      " [[0. 0. 0.]\n",
      " [0. 0. 0.]]\n",
      "Ones Array \n",
      " [[1. 1. 1. 1.]\n",
      " [1. 1. 1. 1.]\n",
      " [1. 1. 1. 1.]]\n",
      "Full Array , \n",
      " [[10 10 10]\n",
      " [10 10 10]]\n",
      "Random values array  [[0.13401305 0.4226913  0.08807634]\n",
      " [0.48446865 0.29244653 0.79986957]]\n",
      "Sequence values printing : [ 0  5 10 15 20 25 30 35 40 45]\n"
     ]
    }
   ],
   "source": [
    "zero_array = np.zeros((2,3))\n",
    "print(f\"Zeros Array \\n {zero_array}\")\n",
    "ones_array = np.ones((3, 4))\n",
    "print(f\"Ones Array \\n {ones_array}\")\n",
    "full = np.full((2, 3), 10)\n",
    "print(f\"Full Array , \\n {full}\")\n",
    "random = np.random.random((2, 3))\n",
    "print(f\"Random values array  {random}\")\n",
    "sequence = np.arange(0, 50, 5) # start (0) , stop (50) , step (5)\n",
    "print(f\"Sequence values printing : {sequence}\")"
   ]
  },
  {
   "cell_type": "markdown",
   "metadata": {},
   "source": [
    "#### Vector , Matrix and Tensor"
   ]
  },
  {
   "cell_type": "code",
   "execution_count": null,
   "metadata": {},
   "outputs": [
    {
     "name": "stdout",
     "output_type": "stream",
     "text": [
      "Vector : [1 2 3 4 5]\n",
      "Matrix [[1 2 3 4]\n",
      " [5 6 7 8]]\n",
      "tensor : [[[ 1  2  3  4]\n",
      "  [ 5  6  7  8]\n",
      "  [ 9 10 11 12]]]\n"
     ]
    }
   ],
   "source": [
    "vector = np.array([1, 2, 3, 4, 5])\n",
    "print(f\"Vector : {vector}\")\n",
    "matrix = np.array([[1, 2, 3, 4], [5, 6, 7, 8]])\n",
    "print(f\"Matrix {matrix}\")\n",
    "tensor = np.array([[[1, 2, 3, 4], [5, 6, 7, 8], [9, 10, 11, 12]]]) # tensors are multi dimensional\n",
    "print(f\"tensor : {tensor}\")"
   ]
  },
  {
   "cell_type": "markdown",
   "metadata": {},
   "source": [
    "#### Array Properties"
   ]
  },
  {
   "cell_type": "code",
   "execution_count": 20,
   "metadata": {},
   "outputs": [
    {
     "name": "stdout",
     "output_type": "stream",
     "text": [
      "Shape of Array (2, 3)\n",
      "Dimension of Array 2D\n",
      "Size of Array 6\n",
      "Datatype  of Array int32\n"
     ]
    }
   ],
   "source": [
    "array = np.array([[1, 2, 3], [4, 5, 6]])\n",
    "print(f\"Shape of Array {array.shape}\") # number of rows and columns\n",
    "print(f\"Dimension of Array {array.ndim}D\") # dimension of array \n",
    "print(f\"Size of Array {array.size}\") # total number of elements in array \n",
    "print(f\"Datatype  of Array {array.dtype}\") # datatype of array "
   ]
  },
  {
   "cell_type": "markdown",
   "metadata": {},
   "source": [
    "#### Array Reshaping"
   ]
  },
  {
   "cell_type": "code",
   "execution_count": 31,
   "metadata": {},
   "outputs": [
    {
     "name": "stdout",
     "output_type": "stream",
     "text": [
      "Original Array : [ 0  1  2  3  4  5  6  7  8  9 10 11]\n",
      "reshaped array : [[ 0  1  2  3]\n",
      " [ 4  5  6  7]\n",
      " [ 8  9 10 11]]\n",
      "Flattened Array [ 0  1  2  3  4  5  6  7  8  9 10 11]\n",
      "revel : [ 0  1  2  3  4  5  6  7  8  9 10 11]\n",
      "Transposed array : [[ 0  4  8]\n",
      " [ 1  5  9]\n",
      " [ 2  6 10]\n",
      " [ 3  7 11]]\n"
     ]
    }
   ],
   "source": [
    "array = np.arange(12)\n",
    "print(\"Original Array :\", array)\n",
    "reshape = array.reshape((3,4)) # returns copy of original array\n",
    "print(f\"reshaped array : {reshape}\")\n",
    "flatten = reshape.flatten()\n",
    "print(f\"Flattened Array {flatten}\")\n",
    "revel = reshape.ravel() # return the original array\n",
    "print(f\"revel : {revel}\")\n",
    "transpose = reshape.T\n",
    "print(f\"Transposed array : {transpose}\")"
   ]
  },
  {
   "cell_type": "code",
   "execution_count": null,
   "metadata": {},
   "outputs": [],
   "source": []
  }
 ],
 "metadata": {
  "kernelspec": {
   "display_name": "Python 3",
   "language": "python",
   "name": "python3"
  },
  "language_info": {
   "codemirror_mode": {
    "name": "ipython",
    "version": 3
   },
   "file_extension": ".py",
   "mimetype": "text/x-python",
   "name": "python",
   "nbconvert_exporter": "python",
   "pygments_lexer": "ipython3",
   "version": "3.11.5"
  }
 },
 "nbformat": 4,
 "nbformat_minor": 2
}
